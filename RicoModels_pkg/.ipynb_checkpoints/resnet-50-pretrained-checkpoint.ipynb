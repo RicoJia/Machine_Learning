{
 "cells": [
  {
   "cell_type": "code",
   "execution_count": 11,
   "id": "566e5bd8-af1f-4652-a864-c6f78558323b",
   "metadata": {},
   "outputs": [
    {
     "name": "stdout",
     "output_type": "stream",
     "text": [
      "The autoreload extension is already loaded. To reload it, use:\n",
      "  %reload_ext autoreload\n"
     ]
    }
   ],
   "source": [
    "%matplotlib inline\n",
    "# load the autoreload extension\n",
    "%load_ext autoreload\n",
    "# autoreload mode 2, which loads imported modules again \n",
    "# everytime they are changed before code execution.\n",
    "# So we don't need to restart the kernel upon changes to modules\n",
    "%autoreload 2"
   ]
  },
  {
   "cell_type": "code",
   "execution_count": 12,
   "id": "aaeb6341",
   "metadata": {},
   "outputs": [
    {
     "name": "stdout",
     "output_type": "stream",
     "text": [
      "Looking in indexes: http://jetson.webredirect.org/jp6/cu122\n",
      "Requirement already satisfied: typing in /usr/local/lib/python3.10/dist-packages (3.7.4.3)\n",
      "Looking in indexes: http://jetson.webredirect.org/jp6/cu122, https://download.pytorch.org/whl/cu117\n",
      "Requirement already satisfied: torch in /usr/local/lib/python3.10/dist-packages (2.2.0)\n",
      "Requirement already satisfied: torchvision in /usr/local/lib/python3.10/dist-packages (0.17.2+c1d70fe)\n",
      "Requirement already satisfied: torchaudio in /usr/local/lib/python3.10/dist-packages (2.3.0+952ea74)\n",
      "Requirement already satisfied: filelock in /usr/local/lib/python3.10/dist-packages (from torch) (3.16.1)\n",
      "Requirement already satisfied: typing-extensions>=4.8.0 in /usr/local/lib/python3.10/dist-packages (from torch) (4.12.2)\n",
      "Requirement already satisfied: sympy in /usr/local/lib/python3.10/dist-packages (from torch) (1.13.3)\n",
      "Requirement already satisfied: networkx in /usr/local/lib/python3.10/dist-packages (from torch) (3.3)\n",
      "Requirement already satisfied: jinja2 in /usr/local/lib/python3.10/dist-packages (from torch) (3.1.4)\n",
      "Requirement already satisfied: fsspec in /usr/local/lib/python3.10/dist-packages (from torch) (2024.9.0)\n",
      "Requirement already satisfied: numpy in /usr/local/lib/python3.10/dist-packages (from torchvision) (1.26.4)\n",
      "Requirement already satisfied: pillow!=8.3.*,>=5.3.0 in /usr/local/lib/python3.10/dist-packages (from torchvision) (10.4.0)\n",
      "Requirement already satisfied: MarkupSafe>=2.0 in /usr/local/lib/python3.10/dist-packages (from jinja2->torch) (2.1.5)\n",
      "Requirement already satisfied: mpmath<1.4,>=1.1.0 in /usr/local/lib/python3.10/dist-packages (from sympy->torch) (1.3.0)\n"
     ]
    }
   ],
   "source": [
    "!pip install --upgrade typing\n",
    "!pip install torch torchvision torchaudio --extra-index-url https://download.pytorch.org/whl/cu117"
   ]
  },
  {
   "cell_type": "code",
   "execution_count": 31,
   "id": "ff10b2c5-43c1-44e6-b2cf-1ea747919628",
   "metadata": {},
   "outputs": [],
   "source": [
    "import torch\n",
    "import torch.nn as nn\n",
    "import torch.optim as optim\n",
    "import torch.backends.cudnn as cudnn #CUDA Deep Neural Network Library\n",
    "import numpy as np\n",
    "import torchvision\n",
    "from torchvision import datasets, models, transforms\n",
    "from torchvision.transforms import v2\n",
    "import matplotlib.pyplot as plt\n",
    "import time\n",
    "import os\n",
    "from tempfile import TemporaryDirectory\n",
    "\n",
    "from PIL import Image\n",
    "cudnn.benchmark = True\n",
    "plt.ion()\n",
    "import matplotlib.pyplot as plt\n",
    "plt.rcParams['figure.figsize'] = (5.0, 4.0) # set default size of plots\n",
    "plt.rcParams['image.interpolation'] = 'nearest'\n",
    "plt.rcParams['image.cmap'] = 'gray'"
   ]
  },
  {
   "cell_type": "code",
   "execution_count": 32,
   "id": "1e7b7942-41ac-4cd4-8349-d9508f97b269",
   "metadata": {},
   "outputs": [
    {
     "name": "stdout",
     "output_type": "stream",
     "text": [
      "Files already downloaded and verified\n",
      "Files already downloaded and verified\n",
      "device:  cuda:0\n"
     ]
    }
   ],
   "source": [
    "DATA_DIR='./data'\n",
    "mean = [0.4914, 0.4822, 0.4465]\n",
    "std = [0.2470, 0.2435, 0.2616]\n",
    "transform_train = transforms.Compose([\n",
    "    # v2.RandomResizedCrop(size=(224, 224), antialias=True),\n",
    "    v2.RandomCrop(32, padding=4),\n",
    "    v2.RandomHorizontalFlip(p=0.5), #flip given a probability\n",
    "    v2.ToImage(), # only needed if you don't have an PIL image\n",
    "    v2.ToDtype(torch.float32, scale=True), #Normalize expects float input. scale the value?\n",
    "    v2.Normalize(mean, std), #normalize with CIFAR mean and std\n",
    "])\n",
    "transform_test = transforms.Compose([\n",
    "    # v2.RandomResizedCrop(size=(224, 224), antialias=True),\n",
    "    # v2.RandomHorizontalFlip(p=0.5), #flip given a probability\n",
    "    v2.ToImage(),\n",
    "    v2.ToDtype(torch.float32, scale=True), #Normalize expects float input. scale the value?\n",
    "    v2.Normalize(mean, std), #normalize with CIFAR mean and std\n",
    "])\n",
    "train_data = torchvision.datasets.CIFAR10(root=DATA_DIR, train = True, transform = transform_train, download = True)\n",
    "test_data = torchvision.datasets.CIFAR10(root=DATA_DIR, train = False, transform = transform_test, download = True)\n",
    "\n",
    "train_dataloader = torch.utils.data.DataLoader(train_data, batch_size=16, shuffle=True, num_workers=1, pin_memory=True)\n",
    "test_dataloader = torch.utils.data.DataLoader(test_data, batch_size=16, shuffle=False, num_workers=1, pin_memory=True)\n",
    "device = torch.device(\"cuda:0\" if torch.cuda.is_available() else \"cpu\")\n",
    "print(\"device: \", device)"
   ]
  },
  {
   "cell_type": "code",
   "execution_count": 33,
   "id": "b93a7638-70d8-4046-a90e-0c2b168fa097",
   "metadata": {},
   "outputs": [
    {
     "name": "stderr",
     "output_type": "stream",
     "text": [
      "Clipping input data to the valid range for imshow with RGB data ([0..1] for floats or [0..255] for integers). Got range [0.05098036339282991..1.0000000339984894].\n",
      "Clipping input data to the valid range for imshow with RGB data ([0..1] for floats or [0..255] for integers). Got range [-2.9659271205684234e-08..0.9686275426864625].\n"
     ]
    },
    {
     "name": "stdout",
     "output_type": "stream",
     "text": [
      "shape:  (32, 32, 3)\n",
      "shape:  (32, 32, 3)\n",
      "shape:  (32, 32, 3)\n",
      "shape:  (32, 32, 3)\n"
     ]
    },
    {
     "data": {
      "text/plain": [
       "<matplotlib.image.AxesImage at 0xfffef21abac0>"
      ]
     },
     "execution_count": 33,
     "metadata": {},
     "output_type": "execute_result"
    },
    {
     "data": {
      "image/png": "[encoded data removed]",
      "text/plain": [
       "<Figure size 500x400 with 4 Axes>"
      ]
     },
     "metadata": {},
     "output_type": "display_data"
    }
   ],
   "source": [
    "class_names = train_data.classes\n",
    "def denorm(img):\n",
    "    m = np.array(mean)\n",
    "    s = np.array(std)\n",
    "    img = img.numpy() * s + m\n",
    "    return img\n",
    "\n",
    "ROWS, CLM=2, 2\n",
    "fig, axes = plt.subplots(nrows=ROWS, ncols=CLM)\n",
    "fig.suptitle('Sample Images')\n",
    "features, labels=next(iter(test_dataloader))\n",
    "for i, ax in enumerate(axes.flat):\n",
    "    img = denorm(features[i].permute(1,2,0).squeeze())\n",
    "    print(\"shape: \", img.shape)\n",
    "    ax.imshow(img)\n",
    "    ax.axis(\"off\")\n",
    "    ax.set_title(class_names[labels[i].item()])\n",
    "plt.tight_layout()\n",
    "plt.imshow(img)"
   ]
  },
  {
   "cell_type": "code",
   "execution_count": 83,
   "id": "4bbfb489-56f1-49f5-8a7a-3d11dfef307d",
   "metadata": {},
   "outputs": [
    {
     "data": {
      "text/plain": [
       "['airplane',\n",
       " 'automobile',\n",
       " 'bird',\n",
       " 'cat',\n",
       " 'deer',\n",
       " 'dog',\n",
       " 'frog',\n",
       " 'horse',\n",
       " 'ship',\n",
       " 'truck']"
      ]
     },
     "execution_count": 83,
     "metadata": {},
     "output_type": "execute_result"
    }
   ],
   "source": [
    "class_names"
   ]
  },
  {
   "cell_type": "markdown",
   "id": "1c2fd8bd-1131-4598-8086-89980fb3e5c8",
   "metadata": {},
   "source": [
    "- `loss.item()` gives the average loss across the current batch\n",
    "- `model.eval()` and `model.train()`?"
   ]
  },
  {
   "cell_type": "code",
   "execution_count": 6,
   "id": "42d64ab4-1e9d-4dfd-8b21-c1eeeab841d4",
   "metadata": {},
   "outputs": [],
   "source": [
    "# model = models.resnet50(weights='IMAGENET1K_V1') # This is close to the training result in paper. V2 is better\n",
    "# num_features = model.fc.in_features\n",
    "# model.fc = nn.Linear(num_features, 10)\n",
    "# model = model.to(device)\n",
    "# criterion = nn.CrossEntropyLoss()\n",
    "# optimizer = optim.SGD(model.parameters(), lr=0.001, momentum=0.9)\n",
    "# # Decay learning rate by a factor of 0.1 every 7 epochs\n",
    "# exp_lr_scheduler = optim.lr_scheduler.StepLR(optimizer, step_size=7, gamma=0.1)"
   ]
  },
  {
   "cell_type": "code",
   "execution_count": 35,
   "id": "90c6c41a",
   "metadata": {},
   "outputs": [
    {
     "name": "stdout",
     "output_type": "stream",
     "text": [
      "torch.Size([1, 10])\n"
     ]
    }
   ],
   "source": [
    "def conv_3x3(in_channels, out_channels, stride, padding):\n",
    "    return nn.Conv2d(\n",
    "            in_channels=in_channels,\n",
    "            out_channels=out_channels,\n",
    "            kernel_size=3,\n",
    "            stride=stride,\n",
    "            padding=padding,\n",
    "            bias=False,\n",
    "        )\n",
    "    \n",
    "def conv_1x1(in_channels, out_channels, stride):\n",
    "    return nn.Conv2d(\n",
    "            in_channels=in_channels,\n",
    "            out_channels=out_channels,\n",
    "            kernel_size=1,\n",
    "            stride=stride,\n",
    "            padding=0,\n",
    "            bias=False,\n",
    "        )\n",
    "     \n",
    "class BasicIdentityBlock(nn.Module):\n",
    "    \"\"\"This is not the bottleneck block, it's the basic identity block\n",
    "    Basic means there are 2 convolutions (3x3) back to back\n",
    "    Identity means the skip connection does not require 1x1 convolution for reshaping \n",
    "    \"\"\"\n",
    "    def __init__(self, in_channels, out_channels, stride) -> None:\n",
    "        # first conv layer is in charge of the actual stride\n",
    "        super().__init__()\n",
    "        self.conv1 = conv_3x3(in_channels=in_channels, \n",
    "                              out_channels=out_channels, stride=stride, padding=1,)\n",
    "        self.bn1 = nn.BatchNorm2d(out_channels)\n",
    "        self.relu = nn.ReLU(inplace=True)\n",
    "        # second conv does same convolution\n",
    "        self.conv2 = conv_3x3(in_channels=out_channels, \n",
    "                              out_channels=out_channels, stride=1, padding=1,)\n",
    "        \n",
    "        self.bn2 = nn.BatchNorm2d(out_channels)\n",
    "        # since this is identity, we can add outputs with inputs together, if stride is 1\n",
    "        # In case in_channels!=out_channels\n",
    "        if stride != 1 or in_channels!=out_channels:\n",
    "            # this is downsampling. Downsampling in ResNet is done thru conv layer \n",
    "            self.short_cut = nn.Sequential(\n",
    "                conv_1x1(in_channels=in_channels, out_channels=out_channels, stride=stride),\n",
    "                nn.BatchNorm2d(out_channels)\n",
    "            )\n",
    "        else:\n",
    "            self.short_cut = nn.Identity()\n",
    "\n",
    "    def forward(self, x):\n",
    "        out = self.relu(self.bn1(self.conv1(x)))\n",
    "        out = self.bn2(self.conv2(out))\n",
    "        short_cut = self.short_cut(x)\n",
    "        out += short_cut\n",
    "        out = self.relu(out)\n",
    "        return out\n",
    "        \n",
    "\n",
    "class ResNetCIFAR(nn.Module):\n",
    "    def __init__(self, block, num_blocks, num_classes) -> None:\n",
    "        # input_shape = (64, 64, 3)\n",
    "        super().__init__()\n",
    "        # same padding, output 32x32x16\n",
    "        output_channels = [16, 16, 32, 64]\n",
    "        self.conv1 = nn.Conv2d(in_channels=3, out_channels=output_channels[0], kernel_size=(3, 3), stride=1,\n",
    "                               padding=1, bias=False)\n",
    "        self.bn1 = nn.BatchNorm2d(num_features=output_channels[0])\n",
    "        # 32x32x16\n",
    "        self.layer0 = self._make_layer(block, num_blocks[0], in_channels = output_channels[0], out_channels=output_channels[1], stride=1)  \n",
    "        # 16x16x32\n",
    "        self.layer1 = self._make_layer(block, num_blocks[1], in_channels = output_channels[1], out_channels=output_channels[2], stride=2)  # 16x16\n",
    "        # 8x8x64\n",
    "        self.layer2 = self._make_layer(block, num_blocks[2], in_channels = output_channels[2], out_channels=output_channels[3], stride=2)  # 8x8\n",
    "        self.relu=nn.ReLU(inplace=True)\n",
    "        # output 1x1x64\n",
    "        self.avg_pool = nn.AdaptiveAvgPool2d(1)\n",
    "        self.fc = nn.Linear(in_features=output_channels[3], out_features=num_classes)   #10\n",
    "\n",
    "        self._initialize_weights()\n",
    "        \n",
    "    def forward(self, x):\n",
    "        x = self.relu(self.bn1(self.conv1(x)))\n",
    "        x = self.layer0(x)\n",
    "        x = self.layer1(x)\n",
    "        x = self.layer2(x)\n",
    "        x = self.avg_pool(x)\n",
    "        x = torch.flatten(x, 1)\n",
    "        x = self.fc(x)\n",
    "        return x\n",
    "\n",
    "    def _make_layer(self, block, num_block, in_channels, out_channels, stride):\n",
    "        # first block may downsample\n",
    "        layers = [\n",
    "            block(in_channels, out_channels=out_channels, stride=stride)\n",
    "        ]\n",
    "        for _ in range(num_block-1):\n",
    "            layers.append(block(in_channels=out_channels, out_channels=out_channels, stride=1))\n",
    "        return nn.Sequential(*layers)\n",
    "            \n",
    "    def _initialize_weights(self):\n",
    "        for m in self.modules():\n",
    "            if isinstance(m, nn.Conv2d):\n",
    "                nn.init.kaiming_normal_(m.weight, mode=\"fan_out\", nonlinearity=\"relu\")\n",
    "            elif isinstance(m, (nn.BatchNorm2d, nn.GroupNorm)):\n",
    "                nn.init.constant_(m.weight, 1)\n",
    "                nn.init.constant_(m.bias, 0)\n",
    "\n",
    "# resnet-20\n",
    "model = ResNetCIFAR(block=BasicIdentityBlock, num_blocks=[3,3,3], num_classes=len(train_data.classes))\n",
    "input_tensor_test = torch.randn(1,3,32,32)\n",
    "output = model(input_tensor_test)\n",
    "print(output.shape)"
   ]
  },
  {
   "cell_type": "code",
   "execution_count": 81,
   "id": "09486960",
   "metadata": {},
   "outputs": [],
   "source": [
    "import time\n",
    "# Define the training function\n",
    "MODEL_PATH = 'resnet_cifar10.pth'\n",
    "ACCUMULATION_STEPS = 8\n",
    "def train_model(model, train_loader, test_loader, criterion, optimizer, scheduler, num_epochs=25, device='cpu'):\n",
    "    model.to(device)\n",
    "\n",
    "    for epoch in range(num_epochs):\n",
    "        # Training phase\n",
    "        start = time.time()\n",
    "        print(f'Epoch [{epoch + 1}/{num_epochs}] ')\n",
    "        \n",
    "        model.train()\n",
    "        running_loss = 0.0\n",
    "        correct_train = 0\n",
    "        total_train = 0\n",
    "\n",
    "        for i, (inputs, labels) in enumerate(train_loader):\n",
    "            inputs = inputs.to(device)\n",
    "            labels = labels.to(device)\n",
    "\n",
    "            # Forward pass\n",
    "            outputs = model(inputs)\n",
    "            # This is because torch.nn.CrossEntropyLoss(reduction='mean') is true, so to simulate a larger batch, we need to further divide\n",
    "            loss = criterion(outputs, labels)/ACCUMULATION_STEPS\n",
    "            # Backward pass and optimization\n",
    "            loss.backward()\n",
    "        \n",
    "            if (i+1)%ACCUMULATION_STEPS == 0:\n",
    "                optimizer.step()\n",
    "                # Zero the parameter gradients\n",
    "                optimizer.zero_grad()\n",
    "                # break #TODO\n",
    "\n",
    "            # Statistics\n",
    "            running_loss += loss.item() * inputs.size(0)\n",
    "            _, predicted = outputs.max(1)\n",
    "            total_train += labels.size(0)\n",
    "            correct_train += predicted.eq(labels).sum().item()\n",
    "\n",
    "            # print(\"===========================\")\n",
    "            # print(\"predicted, outputs.max(1): \", predicted)\n",
    "            # print(\"labels: \", labels)\n",
    "            # print(\"single correct train, predicted.eq(labels).sum().item(): \", predicted.eq(labels).sum().item())\n",
    "            # print(\"correct train: \", correct_train, \" total train: \", total_train)\n",
    "        \n",
    "        # adjust after every epoch\n",
    "        scheduler.step()\n",
    "        current_lr = optimizer.param_groups[0]['lr']\n",
    "        print(f\"Current learning rate: {current_lr}\")\n",
    "\n",
    "        epoch_loss = running_loss / len(train_loader.dataset)\n",
    "        epoch_acc = 100. * correct_train / total_train\n",
    "        print(\"correct train: \", correct_train, \" total train: \", total_train)\n",
    "\n",
    "        torch.save(model.state_dict(), MODEL_PATH)\n",
    "        print(f\"epoch: {epoch}, saved the model. \"\n",
    "              f'Train Loss: {epoch_loss:.4f} '\n",
    "              f'Train Acc: {epoch_acc:.2f}% ')\n",
    "        \n",
    "    # Evaluation phase\n",
    "    model.eval()\n",
    "    correct_test = 0\n",
    "    total_test = 0\n",
    "    with torch.no_grad():\n",
    "        # for inputs_test, labels_test in train_loader:\n",
    "        \n",
    "        # TODO I AM ITERATING OVER TRAIN_LOADER, SO I'M MORE SURE\n",
    "        for inputs_test, labels_test in test_loader:\n",
    "            inputs_test = inputs_test.to(device)\n",
    "            labels_test = labels_test.to(device)\n",
    "            outputs_test = model(inputs_test)\n",
    "            _, predicted_test = outputs_test.max(1)\n",
    "            total_test += labels_test.size(0)\n",
    "            correct_test += predicted_test.eq(labels_test).sum().item()\n",
    "\n",
    "    test_acc = 100. * correct_test / total_test\n",
    "\n",
    "    # Adjust learning rate\n",
    "    end = time.time()\n",
    "    print(\"elapsed: \", end-start)\n",
    "    print(f'Test Acc: {test_acc:.2f}%')\n",
    "\n",
    "    print('Training complete')\n",
    "    return model"
   ]
  },
  {
   "cell_type": "code",
   "execution_count": 82,
   "id": "7110680d",
   "metadata": {},
   "outputs": [
    {
     "name": "stdout",
     "output_type": "stream",
     "text": [
      "loaded model\n",
      "Epoch [1/50] \n",
      "Epoch [2/50] \n",
      "Epoch [3/50] \n",
      "Epoch [4/50] \n",
      "Epoch [5/50] \n",
      "Epoch [6/50] \n",
      "Epoch [7/50] \n",
      "Epoch [8/50] \n",
      "Epoch [9/50] \n",
      "Epoch [10/50] \n",
      "Epoch [11/50] \n",
      "Epoch [12/50] \n",
      "Epoch [13/50] \n",
      "Epoch [14/50] \n",
      "Epoch [15/50] \n",
      "Epoch [16/50] \n",
      "Epoch [17/50] \n",
      "Epoch [18/50] \n",
      "Epoch [19/50] \n",
      "Epoch [20/50] \n",
      "Epoch [21/50] \n",
      "Epoch [22/50] \n",
      "Epoch [23/50] \n",
      "Epoch [24/50] \n",
      "Epoch [25/50] \n",
      "Epoch [26/50] \n",
      "Epoch [27/50] \n",
      "Epoch [28/50] \n",
      "Epoch [29/50] \n",
      "Epoch [30/50] \n",
      "Epoch [31/50] \n",
      "Epoch [32/50] \n",
      "Epoch [33/50] \n",
      "Epoch [34/50] \n",
      "Epoch [35/50] \n",
      "Epoch [36/50] \n",
      "Epoch [37/50] \n",
      "Epoch [38/50] \n",
      "Epoch [39/50] \n",
      "Epoch [40/50] \n",
      "Epoch [41/50] \n",
      "Epoch [42/50] \n",
      "Epoch [43/50] \n",
      "Epoch [44/50] \n",
      "Epoch [45/50] \n",
      "Epoch [46/50] \n",
      "Epoch [47/50] \n",
      "Epoch [48/50] \n",
      "Epoch [49/50] \n",
      "Epoch [50/50] \n",
      "elapsed:  8.657222986221313\n",
      "Test Acc: 89.13%\n",
      "Training complete\n"
     ]
    }
   ],
   "source": [
    "import os\n",
    "\n",
    "# Train the model\n",
    "if os.path.exists(MODEL_PATH):\n",
    "    model.load_state_dict(torch.load(MODEL_PATH, weights_only=False, map_location=device))\n",
    "    print(\"loaded model\")\n",
    "model.to(device)\n",
    "\n",
    "criterion = nn.CrossEntropyLoss()\n",
    "weight_decay = 0.0001\n",
    "momentum=0.9\n",
    "learning_rate=0.1\n",
    "num_epochs=50\n",
    "batch_size=16\n",
    "# optimizer = optim.Adam(model.parameters(), lr=learning_rate, weight_decay=weight_decay) # 0.001 as learning rate is common\n",
    "optimizer = optim.SGD(model.parameters(), lr=learning_rate, momentum=momentum, weight_decay=weight_decay)\n",
    "\n",
    "# Learning rate scheduler\n",
    "scheduler = optim.lr_scheduler.MultiStepLR(optimizer, milestones=[20, 40], gamma=0.1)\n",
    "\n",
    "# On a single Nvidia A10G GPU, an epoch takes ~170s\n",
    "model = train_model(model, train_dataloader, test_dataloader, criterion, optimizer, scheduler,\n",
    "                    num_epochs=num_epochs, device=device)"
   ]
  },
  {
   "cell_type": "markdown",
   "id": "b90bb9a8-88a1-4dc7-9b8f-3e83fed0a3bb",
   "metadata": {},
   "source": [
    "## Data Processing"
   ]
  },
  {
   "cell_type": "code",
   "execution_count": 87,
   "id": "15a11018-ee9b-47a9-9940-2e1d4e66994f",
   "metadata": {},
   "outputs": [
    {
     "name": "stdout",
     "output_type": "stream",
     "text": [
      "Using downloaded and verified file: ./data/VOCtrainval_06-Nov-2007.tar\n",
      "Extracting ./data/VOCtrainval_06-Nov-2007.tar to ./data\n"
     ]
    }
   ],
   "source": [
    "# Define the root directory where the dataset will be stored\n",
    "voc_root = './data'\n",
    "\n",
    "# Year of the dataset (2007 or 2012)\n",
    "year = '2007'\n",
    "\n",
    "# Create the dataset\n",
    "dataset = torchvision.datasets.VOCDetection(\n",
    "    root=voc_root,\n",
    "    year=year,\n",
    "    image_set='val',\n",
    "    download=True,\n",
    "    transform=None,  # We'll define transforms later\n",
    "    target_transform=None,\n",
    "    transforms=None\n",
    ")\n"
   ]
  },
  {
   "cell_type": "code",
   "execution_count": 91,
   "id": "005f565b-2bbe-4c2f-95b2-f36dc94f0a65",
   "metadata": {},
   "outputs": [],
   "source": [
    "mean = [0.4914, 0.4822, 0.4465]\n",
    "std = [0.2470, 0.2435, 0.2616]\n",
    "transform_train = transforms.Compose([\n",
    "    # v2.RandomResizedCrop(size=(224, 224), antialias=True),\n",
    "    v2.Resize((32,32)),\n",
    "    v2.ToTensor(),\n",
    "    v2.Normalize(mean, std), #normalize with CIFAR mean and std\n",
    "])\n",
    "voc_classes = set()\n",
    "for idx, (image, target) in enumerate(dataset):\n",
    "    objects = target['annotation']['object']\n",
    "    if not isinstance(objects, list):\n",
    "        objects = [objects]\n",
    "    for obj in objects:\n",
    "        obj_name = obj['name']\n",
    "        voc_classes.add(obj_name)\n"
   ]
  },
  {
   "cell_type": "code",
   "execution_count": 92,
   "id": "ffddeca8-d084-440f-aaed-acf43d6e985e",
   "metadata": {},
   "outputs": [
    {
     "data": {
      "text/plain": [
       "{'aeroplane',\n",
       " 'bicycle',\n",
       " 'bird',\n",
       " 'boat',\n",
       " 'bottle',\n",
       " 'bus',\n",
       " 'car',\n",
       " 'cat',\n",
       " 'chair',\n",
       " 'cow',\n",
       " 'diningtable',\n",
       " 'dog',\n",
       " 'horse',\n",
       " 'motorbike',\n",
       " 'person',\n",
       " 'pottedplant',\n",
       " 'sheep',\n",
       " 'sofa',\n",
       " 'train',\n",
       " 'tvmonitor'}"
      ]
     },
     "execution_count": 92,
     "metadata": {},
     "output_type": "execute_result"
    }
   ],
   "source": [
    "class_additional_mapping = {'aeroplane': 'airplane', 'car': 'automobile'}"
   ]
  },
  {
   "cell_type": "code",
   "execution_count": 93,
   "id": "2c420974-2e0c-4bf2-a357-fa82a234b238",
   "metadata": {},
   "outputs": [
    {
     "data": {
      "text/plain": [
       "['airplane',\n",
       " 'automobile',\n",
       " 'bird',\n",
       " 'cat',\n",
       " 'deer',\n",
       " 'dog',\n",
       " 'frog',\n",
       " 'horse',\n",
       " 'ship',\n",
       " 'truck']"
      ]
     },
     "execution_count": 93,
     "metadata": {},
     "output_type": "execute_result"
    }
   ],
   "source": [
    "class_names"
   ]
  },
  {
   "cell_type": "code",
   "execution_count": null,
   "id": "6cdfdd91-4bec-4e8c-a77f-295ea2e467ad",
   "metadata": {},
   "outputs": [],
   "source": []
  }
 ],
 "metadata": {
  "kernelspec": {
   "display_name": "Python 3 (ipykernel)",
   "language": "python",
   "name": "python3"
  },
  "language_info": {
   "codemirror_mode": {
    "name": "ipython",
    "version": 3
   },
   "file_extension": ".py",
   "mimetype": "text/x-python",
   "name": "python",
   "nbconvert_exporter": "python",
   "pygments_lexer": "ipython3",
   "version": "3.10.12"
  }
 },
 "nbformat": 4,
 "nbformat_minor": 5
}
