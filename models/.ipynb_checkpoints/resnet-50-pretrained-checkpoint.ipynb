{
 "cells": [
  {
   "cell_type": "code",
   "execution_count": 1,
   "id": "566e5bd8-af1f-4652-a864-c6f78558323b",
   "metadata": {},
   "outputs": [],
   "source": [
    "%matplotlib inline\n",
    "# load the autoreload extension\n",
    "%load_ext autoreload\n",
    "# autoreload mode 2, which loads imported modules again \n",
    "# everytime they are changed before code execution.\n",
    "# So we don't need to restart the kernel upon changes to modules\n",
    "%autoreload 2"
   ]
  },
  {
   "cell_type": "code",
   "execution_count": 8,
   "id": "ff10b2c5-43c1-44e6-b2cf-1ea747919628",
   "metadata": {},
   "outputs": [],
   "source": [
    "import torch\n",
    "import torch.nn as nn\n",
    "import torch.optim as optim\n",
    "import torch.backends.cudnn as cudnn #CUDA Deep Neural Network Library\n",
    "import numpy as np\n",
    "import torchvision\n",
    "from torchvision import datasets, models\n",
    "from torchvision.transforms import v2\n",
    "import matplotlib.pyplot as plt\n",
    "import time\n",
    "import os\n",
    "from tempfile import TemporaryDirectory\n",
    "\n",
    "from PIL import Image\n",
    "cudnn.benchmark = True\n",
    "plt.ion()\n",
    "import matplotlib.pyplot as plt\n",
    "plt.rcParams['figure.figsize'] = (5.0, 4.0) # set default size of plots\n",
    "plt.rcParams['image.interpolation'] = 'nearest'\n",
    "plt.rcParams['image.cmap'] = 'gray'"
   ]
  },
  {
   "cell_type": "markdown",
   "id": "853dd602-9528-4aee-9961-ae8d9af6be12",
   "metadata": {},
   "source": [
    "- ResNet was originally trained on the ImageNet dataset with 1.2M + high resolution images and 1000 categories. CIFAR-10 dataset has 60K 32x32 images across 10 classes. (Hence the 10) \n",
    "- torch.backends.cudnn #CUDA Deep Neural Network Library has optimized primitives such as Convolution, pooling, activation funcs. MXNet, TensorFlow, PyTorch use this under the hood.\n",
    "- `torch.backends.cudnn.benchmark` is A bool that, if True, causes cuDNN to benchmark multiple convolution algorithms and select the fastest.\n",
    "- `plt.ion()` puts pyplot into interactive mode: no explicit calls to plt.show(); show() is not blocking anymore, meaning we can see the real time updates.\n",
    "\n",
    "For data transforms\n",
    "- `scale=True` in ToDtype() scales RGB values to 255 or 1.0. \n",
    "- When downsizing, there could be **jagged edges** or **Moire Pattern** due to violation of the Nyquist Theorem. Antialiasing will apply low-pass filtering (smoothing out edges), resample with a different frequency\n",
    "- `v2.Normalize(mean, std)` normalizes data around a mean and std, which does NOT clip under 1.0 (float) or 255 (int). This helps the training to converge faster, but visualization would require clipping in 1.0 or 255,   \n",
    "\n",
    "For Dataloading:\n",
    "- `torch.utils.data.Dataset` stores the data and their labels\n",
    "- `torch.utils.data.DataLoader` stores an iterable to the data. You can specify batch size so you can create mini-batches off of it.\n",
    "- some data are in CHW format (Channel-Height-Weight), so we need to flip it by `tensor.permute(1,2,0)`\n",
    "- "
   ]
  },
  {
   "cell_type": "code",
   "execution_count": 32,
   "id": "1e7b7942-41ac-4cd4-8349-d9508f97b269",
   "metadata": {},
   "outputs": [
    {
     "name": "stdout",
     "output_type": "stream",
     "text": [
      "Files already downloaded and verified\n",
      "Files already downloaded and verified\n",
      "device:  cpu\n"
     ]
    }
   ],
   "source": [
    "DATA_DIR='./data'\n",
    "mean = [0.4914, 0.4822, 0.4465]\n",
    "std = [0.2023, 0.1994, 0.2010]\n",
    "transform_train = transforms.Compose([\n",
    "    v2.RandomResizedCrop(size=(224, 224), antialias=True),\n",
    "    v2.RandomHorizontalFlip(p=0.5), #flip given a probability\n",
    "    v2.ToImage(), # only needed if you have an PIL image\n",
    "    v2.ToDtype(torch.float32, scale=True), #Normalize expects float input. scale the value?\n",
    "    v2.Normalize(mean, std), #normalize with CIFAR mean and std\n",
    "])\n",
    "test_train = transforms.Compose([\n",
    "    v2.ToImage(),\n",
    "    v2.ToDtype(torch.float32, scale=True), #Normalize expects float input. scale the value?\n",
    "    v2.Normalize(mean, std), #normalize with CIFAR mean and std\n",
    "])\n",
    "train_data = torchvision.datasets.CIFAR10(root=DATA_DIR, train = True, transform = transform_train, download = True)\n",
    "test_data = torchvision.datasets.CIFAR10(root=DATA_DIR, train = False, transform = test_train, download = True)\n",
    "\n",
    "train_dataloader = torch.utils.data.DataLoader(train_data, batch_size=64, shuffle=True, num_workers=4)\n",
    "test_dataloader = torch.utils.data.DataLoader(test_data, batch_size=32, shuffle=False, num_workers=4)\n",
    "device = torch.device(\"cuda:0\" if torch.cuda.is_available() else \"cpu\")\n",
    "print(\"device: \", device)"
   ]
  },
  {
   "cell_type": "code",
   "execution_count": 30,
   "id": "b93a7638-70d8-4046-a90e-0c2b168fa097",
   "metadata": {},
   "outputs": [
    {
     "name": "stderr",
     "output_type": "stream",
     "text": [
      "Clipping input data to the valid range for imshow with RGB data ([0..1] for floats or [0..255] for integers).\n"
     ]
    },
    {
     "name": "stdout",
     "output_type": "stream",
     "text": [
      "automobile\n"
     ]
    },
    {
     "data": {
      "text/plain": [
       "<matplotlib.image.AxesImage at 0x78176d6f48b0>"
      ]
     },
     "execution_count": 30,
     "metadata": {},
     "output_type": "execute_result"
    },
    {
     "data": {
      "image/png": "[encoded data removed]",
      "text/plain": [
       "<Figure size 500x400 with 1 Axes>"
      ]
     },
     "metadata": {},
     "output_type": "display_data"
    }
   ],
   "source": [
    "class_names = train_data.classes\n",
    "def denorm(img):\n",
    "    m = np.array(mean)\n",
    "    s = np.array(std)\n",
    "    img = img.numpy() * s + m\n",
    "    return img\n",
    "id=6\n",
    "features, labels=next(iter(test_dataloader))\n",
    "img = denorm(features[id].permute(1,2,0).squeeze())\n",
    "print(class_names[labels[id].item()])\n",
    "plt.imshow(img)"
   ]
  },
  {
   "cell_type": "markdown",
   "id": "1c2fd8bd-1131-4598-8086-89980fb3e5c8",
   "metadata": {},
   "source": [
    "- `loss.item()` gives the average loss across the current batch\n",
    "- `model.eval()` and `model.train()`?"
   ]
  },
  {
   "cell_type": "code",
   "execution_count": 36,
   "id": "42d64ab4-1e9d-4dfd-8b21-c1eeeab841d4",
   "metadata": {},
   "outputs": [],
   "source": [
    "model = models.resnet50(weights='IMAGENET1K_V1') # This is close to the training result in paper. V2 is better\n",
    "num_features = model.fc.in_features\n",
    "model.fc = nn.Linear(num_features, 10)\n",
    "model = model.to(device)\n",
    "criterion = nn.CrossEntropyLoss()\n",
    "optimizer = optim.SGD(model.parameters(), lr=0.001, momentum=0.9)\n",
    "# Decay learning rate by a factor of 0.1 every 7 epochs\n",
    "exp_lr_scheduler = optim.lr_scheduler.StepLR(optimizer, step_size=7, gamma=0.1)"
   ]
  },
  {
   "cell_type": "code",
   "execution_count": null,
   "id": "52a965f2-4ecc-4671-8e47-9d60b5f6ed98",
   "metadata": {},
   "outputs": [],
   "source": [
    "NUM_EPOCHS = 100\n",
    "def train(model, criterion, optimizer, lr_scheduler):\n",
    "    since = time.time()\n",
    "    best_acc = 0.0\n",
    "    for epoch in range(NUM_EPOCHS):\n",
    "        running_loss = 0\n",
    "        total = 0\n",
    "        correct = 0\n",
    "        model.train()\n",
    "        for inputs, labels in train_dataloader:\n",
    "            inputs, labels = inputs.to(device), labels.to(device)\n",
    "            optimizer.zero_grad()\n",
    "            outputs = model(inputs)\n",
    "            loss = criterion(outputs, labels)\n",
    "            loss.backward()\n",
    "            optimizer.step()\n",
    "\n",
    "            running_loss += loss.item() * inputs.shape[0]\n",
    "            predicted = torch.argmax(outputs, dim=1)\n",
    "            total += labels.size(0)\n",
    "            correct = (predicted == labels).sum().item()\n",
    "        \n",
    "        print(f\"{epoch}/{NUM_EPOCHS}: running loss: {running_loss}, accuracy: {correct/total}\")\n",
    "\n",
    "        #validation\n",
    "        model.eval()\n",
    "        val_loss = 0,\n",
    "        total = 0\n",
    "        correct = 0\n",
    "        with torch.no_grad():\n",
    "            for inputs, labels in test_dataloader:\n",
    "                inputs, labels = inputs.to(device), labels.to(device)\n",
    "                outputs = model(inputs)\n",
    "                loss = criterion(outputs, labels)\n",
    "                val_loss += loss.item() * inputs.size(0)\n",
    "                predicted = torch.argmax(outputs, dim=1)\n",
    "                total += labels.size(0)\n",
    "                correct = (predicted == labels).sum().item()\n",
    "\n",
    "        print(f\"{epoch}/{NUM_EPOCHS}: validation loss: {val_loss}, accuracy: {correct/total}\")\n",
    "    \n",
    "train(model, criterion, optimizer, exp_lr_scheduler)\n",
    "       \n",
    "            "
   ]
  },
  {
   "cell_type": "code",
   "execution_count": null,
   "id": "17a434e8-35d0-488b-816d-7d12149ac86f",
   "metadata": {},
   "outputs": [],
   "source": []
  }
 ],
 "metadata": {
  "kernelspec": {
   "display_name": "Python 3 (ipykernel)",
   "language": "python",
   "name": "python3"
  },
  "language_info": {
   "codemirror_mode": {
    "name": "ipython",
    "version": 3
   },
   "file_extension": ".py",
   "mimetype": "text/x-python",
   "name": "python",
   "nbconvert_exporter": "python",
   "pygments_lexer": "ipython3",
   "version": "3.8.10"
  }
 },
 "nbformat": 4,
 "nbformat_minor": 5
}
